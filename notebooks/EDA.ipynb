{
 "cells": [
  {
   "cell_type": "code",
   "execution_count": 12,
   "metadata": {},
   "outputs": [],
   "source": [
    "import pandas as pd\n",
    "import matplotlib.pyplot as plt\n",
    "import csv\n",
    "import os"
   ]
  },
  {
   "cell_type": "code",
   "execution_count": 13,
   "metadata": {},
   "outputs": [],
   "source": [
    "# Get the base directory dynamically\n",
    "base_dir = os.path.abspath(os.path.join(os.getcwd(), os.pardir, os.pardir))  # Adjust based on EDA.ipynb's location\n",
    "\n",
    "# Construct the path to the data file\n",
    "data_path = os.path.join(base_dir, 'data', 'raw', 'data.csv')"
   ]
  },
  {
   "cell_type": "code",
   "execution_count": 16,
   "metadata": {},
   "outputs": [
    {
     "data": {
      "text/plain": [
       "'/Users/frederikreimert/Documents/pyne/Pyne-Case/data/raw/data.csv'"
      ]
     },
     "execution_count": 16,
     "metadata": {},
     "output_type": "execute_result"
    }
   ],
   "source": [
    "data_path\n"
   ]
  },
  {
   "cell_type": "code",
   "execution_count": 17,
   "metadata": {},
   "outputs": [
    {
     "ename": "FileNotFoundError",
     "evalue": "[Errno 2] No such file or directory: '/Users/frederikreimert/Documents/pyne/Pyne-Case/data/raw/data.csv'",
     "output_type": "error",
     "traceback": [
      "\u001b[0;31m---------------------------------------------------------------------------\u001b[0m",
      "\u001b[0;31mFileNotFoundError\u001b[0m                         Traceback (most recent call last)",
      "Cell \u001b[0;32mIn[17], line 1\u001b[0m\n\u001b[0;32m----> 1\u001b[0m \u001b[43mpd\u001b[49m\u001b[38;5;241;43m.\u001b[39;49m\u001b[43mread_csv\u001b[49m\u001b[43m(\u001b[49m\u001b[43mdata_path\u001b[49m\u001b[43m)\u001b[49m\n",
      "File \u001b[0;32m~/anaconda3/envs/anaconda_environment_1/lib/python3.11/site-packages/pandas/io/parsers/readers.py:1026\u001b[0m, in \u001b[0;36mread_csv\u001b[0;34m(filepath_or_buffer, sep, delimiter, header, names, index_col, usecols, dtype, engine, converters, true_values, false_values, skipinitialspace, skiprows, skipfooter, nrows, na_values, keep_default_na, na_filter, verbose, skip_blank_lines, parse_dates, infer_datetime_format, keep_date_col, date_parser, date_format, dayfirst, cache_dates, iterator, chunksize, compression, thousands, decimal, lineterminator, quotechar, quoting, doublequote, escapechar, comment, encoding, encoding_errors, dialect, on_bad_lines, delim_whitespace, low_memory, memory_map, float_precision, storage_options, dtype_backend)\u001b[0m\n\u001b[1;32m   1013\u001b[0m kwds_defaults \u001b[38;5;241m=\u001b[39m _refine_defaults_read(\n\u001b[1;32m   1014\u001b[0m     dialect,\n\u001b[1;32m   1015\u001b[0m     delimiter,\n\u001b[0;32m   (...)\u001b[0m\n\u001b[1;32m   1022\u001b[0m     dtype_backend\u001b[38;5;241m=\u001b[39mdtype_backend,\n\u001b[1;32m   1023\u001b[0m )\n\u001b[1;32m   1024\u001b[0m kwds\u001b[38;5;241m.\u001b[39mupdate(kwds_defaults)\n\u001b[0;32m-> 1026\u001b[0m \u001b[38;5;28;01mreturn\u001b[39;00m \u001b[43m_read\u001b[49m\u001b[43m(\u001b[49m\u001b[43mfilepath_or_buffer\u001b[49m\u001b[43m,\u001b[49m\u001b[43m \u001b[49m\u001b[43mkwds\u001b[49m\u001b[43m)\u001b[49m\n",
      "File \u001b[0;32m~/anaconda3/envs/anaconda_environment_1/lib/python3.11/site-packages/pandas/io/parsers/readers.py:620\u001b[0m, in \u001b[0;36m_read\u001b[0;34m(filepath_or_buffer, kwds)\u001b[0m\n\u001b[1;32m    617\u001b[0m _validate_names(kwds\u001b[38;5;241m.\u001b[39mget(\u001b[38;5;124m\"\u001b[39m\u001b[38;5;124mnames\u001b[39m\u001b[38;5;124m\"\u001b[39m, \u001b[38;5;28;01mNone\u001b[39;00m))\n\u001b[1;32m    619\u001b[0m \u001b[38;5;66;03m# Create the parser.\u001b[39;00m\n\u001b[0;32m--> 620\u001b[0m parser \u001b[38;5;241m=\u001b[39m \u001b[43mTextFileReader\u001b[49m\u001b[43m(\u001b[49m\u001b[43mfilepath_or_buffer\u001b[49m\u001b[43m,\u001b[49m\u001b[43m \u001b[49m\u001b[38;5;241;43m*\u001b[39;49m\u001b[38;5;241;43m*\u001b[39;49m\u001b[43mkwds\u001b[49m\u001b[43m)\u001b[49m\n\u001b[1;32m    622\u001b[0m \u001b[38;5;28;01mif\u001b[39;00m chunksize \u001b[38;5;129;01mor\u001b[39;00m iterator:\n\u001b[1;32m    623\u001b[0m     \u001b[38;5;28;01mreturn\u001b[39;00m parser\n",
      "File \u001b[0;32m~/anaconda3/envs/anaconda_environment_1/lib/python3.11/site-packages/pandas/io/parsers/readers.py:1620\u001b[0m, in \u001b[0;36mTextFileReader.__init__\u001b[0;34m(self, f, engine, **kwds)\u001b[0m\n\u001b[1;32m   1617\u001b[0m     \u001b[38;5;28mself\u001b[39m\u001b[38;5;241m.\u001b[39moptions[\u001b[38;5;124m\"\u001b[39m\u001b[38;5;124mhas_index_names\u001b[39m\u001b[38;5;124m\"\u001b[39m] \u001b[38;5;241m=\u001b[39m kwds[\u001b[38;5;124m\"\u001b[39m\u001b[38;5;124mhas_index_names\u001b[39m\u001b[38;5;124m\"\u001b[39m]\n\u001b[1;32m   1619\u001b[0m \u001b[38;5;28mself\u001b[39m\u001b[38;5;241m.\u001b[39mhandles: IOHandles \u001b[38;5;241m|\u001b[39m \u001b[38;5;28;01mNone\u001b[39;00m \u001b[38;5;241m=\u001b[39m \u001b[38;5;28;01mNone\u001b[39;00m\n\u001b[0;32m-> 1620\u001b[0m \u001b[38;5;28mself\u001b[39m\u001b[38;5;241m.\u001b[39m_engine \u001b[38;5;241m=\u001b[39m \u001b[38;5;28;43mself\u001b[39;49m\u001b[38;5;241;43m.\u001b[39;49m\u001b[43m_make_engine\u001b[49m\u001b[43m(\u001b[49m\u001b[43mf\u001b[49m\u001b[43m,\u001b[49m\u001b[43m \u001b[49m\u001b[38;5;28;43mself\u001b[39;49m\u001b[38;5;241;43m.\u001b[39;49m\u001b[43mengine\u001b[49m\u001b[43m)\u001b[49m\n",
      "File \u001b[0;32m~/anaconda3/envs/anaconda_environment_1/lib/python3.11/site-packages/pandas/io/parsers/readers.py:1880\u001b[0m, in \u001b[0;36mTextFileReader._make_engine\u001b[0;34m(self, f, engine)\u001b[0m\n\u001b[1;32m   1878\u001b[0m     \u001b[38;5;28;01mif\u001b[39;00m \u001b[38;5;124m\"\u001b[39m\u001b[38;5;124mb\u001b[39m\u001b[38;5;124m\"\u001b[39m \u001b[38;5;129;01mnot\u001b[39;00m \u001b[38;5;129;01min\u001b[39;00m mode:\n\u001b[1;32m   1879\u001b[0m         mode \u001b[38;5;241m+\u001b[39m\u001b[38;5;241m=\u001b[39m \u001b[38;5;124m\"\u001b[39m\u001b[38;5;124mb\u001b[39m\u001b[38;5;124m\"\u001b[39m\n\u001b[0;32m-> 1880\u001b[0m \u001b[38;5;28mself\u001b[39m\u001b[38;5;241m.\u001b[39mhandles \u001b[38;5;241m=\u001b[39m \u001b[43mget_handle\u001b[49m\u001b[43m(\u001b[49m\n\u001b[1;32m   1881\u001b[0m \u001b[43m    \u001b[49m\u001b[43mf\u001b[49m\u001b[43m,\u001b[49m\n\u001b[1;32m   1882\u001b[0m \u001b[43m    \u001b[49m\u001b[43mmode\u001b[49m\u001b[43m,\u001b[49m\n\u001b[1;32m   1883\u001b[0m \u001b[43m    \u001b[49m\u001b[43mencoding\u001b[49m\u001b[38;5;241;43m=\u001b[39;49m\u001b[38;5;28;43mself\u001b[39;49m\u001b[38;5;241;43m.\u001b[39;49m\u001b[43moptions\u001b[49m\u001b[38;5;241;43m.\u001b[39;49m\u001b[43mget\u001b[49m\u001b[43m(\u001b[49m\u001b[38;5;124;43m\"\u001b[39;49m\u001b[38;5;124;43mencoding\u001b[39;49m\u001b[38;5;124;43m\"\u001b[39;49m\u001b[43m,\u001b[49m\u001b[43m \u001b[49m\u001b[38;5;28;43;01mNone\u001b[39;49;00m\u001b[43m)\u001b[49m\u001b[43m,\u001b[49m\n\u001b[1;32m   1884\u001b[0m \u001b[43m    \u001b[49m\u001b[43mcompression\u001b[49m\u001b[38;5;241;43m=\u001b[39;49m\u001b[38;5;28;43mself\u001b[39;49m\u001b[38;5;241;43m.\u001b[39;49m\u001b[43moptions\u001b[49m\u001b[38;5;241;43m.\u001b[39;49m\u001b[43mget\u001b[49m\u001b[43m(\u001b[49m\u001b[38;5;124;43m\"\u001b[39;49m\u001b[38;5;124;43mcompression\u001b[39;49m\u001b[38;5;124;43m\"\u001b[39;49m\u001b[43m,\u001b[49m\u001b[43m \u001b[49m\u001b[38;5;28;43;01mNone\u001b[39;49;00m\u001b[43m)\u001b[49m\u001b[43m,\u001b[49m\n\u001b[1;32m   1885\u001b[0m \u001b[43m    \u001b[49m\u001b[43mmemory_map\u001b[49m\u001b[38;5;241;43m=\u001b[39;49m\u001b[38;5;28;43mself\u001b[39;49m\u001b[38;5;241;43m.\u001b[39;49m\u001b[43moptions\u001b[49m\u001b[38;5;241;43m.\u001b[39;49m\u001b[43mget\u001b[49m\u001b[43m(\u001b[49m\u001b[38;5;124;43m\"\u001b[39;49m\u001b[38;5;124;43mmemory_map\u001b[39;49m\u001b[38;5;124;43m\"\u001b[39;49m\u001b[43m,\u001b[49m\u001b[43m \u001b[49m\u001b[38;5;28;43;01mFalse\u001b[39;49;00m\u001b[43m)\u001b[49m\u001b[43m,\u001b[49m\n\u001b[1;32m   1886\u001b[0m \u001b[43m    \u001b[49m\u001b[43mis_text\u001b[49m\u001b[38;5;241;43m=\u001b[39;49m\u001b[43mis_text\u001b[49m\u001b[43m,\u001b[49m\n\u001b[1;32m   1887\u001b[0m \u001b[43m    \u001b[49m\u001b[43merrors\u001b[49m\u001b[38;5;241;43m=\u001b[39;49m\u001b[38;5;28;43mself\u001b[39;49m\u001b[38;5;241;43m.\u001b[39;49m\u001b[43moptions\u001b[49m\u001b[38;5;241;43m.\u001b[39;49m\u001b[43mget\u001b[49m\u001b[43m(\u001b[49m\u001b[38;5;124;43m\"\u001b[39;49m\u001b[38;5;124;43mencoding_errors\u001b[39;49m\u001b[38;5;124;43m\"\u001b[39;49m\u001b[43m,\u001b[49m\u001b[43m \u001b[49m\u001b[38;5;124;43m\"\u001b[39;49m\u001b[38;5;124;43mstrict\u001b[39;49m\u001b[38;5;124;43m\"\u001b[39;49m\u001b[43m)\u001b[49m\u001b[43m,\u001b[49m\n\u001b[1;32m   1888\u001b[0m \u001b[43m    \u001b[49m\u001b[43mstorage_options\u001b[49m\u001b[38;5;241;43m=\u001b[39;49m\u001b[38;5;28;43mself\u001b[39;49m\u001b[38;5;241;43m.\u001b[39;49m\u001b[43moptions\u001b[49m\u001b[38;5;241;43m.\u001b[39;49m\u001b[43mget\u001b[49m\u001b[43m(\u001b[49m\u001b[38;5;124;43m\"\u001b[39;49m\u001b[38;5;124;43mstorage_options\u001b[39;49m\u001b[38;5;124;43m\"\u001b[39;49m\u001b[43m,\u001b[49m\u001b[43m \u001b[49m\u001b[38;5;28;43;01mNone\u001b[39;49;00m\u001b[43m)\u001b[49m\u001b[43m,\u001b[49m\n\u001b[1;32m   1889\u001b[0m \u001b[43m\u001b[49m\u001b[43m)\u001b[49m\n\u001b[1;32m   1890\u001b[0m \u001b[38;5;28;01massert\u001b[39;00m \u001b[38;5;28mself\u001b[39m\u001b[38;5;241m.\u001b[39mhandles \u001b[38;5;129;01mis\u001b[39;00m \u001b[38;5;129;01mnot\u001b[39;00m \u001b[38;5;28;01mNone\u001b[39;00m\n\u001b[1;32m   1891\u001b[0m f \u001b[38;5;241m=\u001b[39m \u001b[38;5;28mself\u001b[39m\u001b[38;5;241m.\u001b[39mhandles\u001b[38;5;241m.\u001b[39mhandle\n",
      "File \u001b[0;32m~/anaconda3/envs/anaconda_environment_1/lib/python3.11/site-packages/pandas/io/common.py:873\u001b[0m, in \u001b[0;36mget_handle\u001b[0;34m(path_or_buf, mode, encoding, compression, memory_map, is_text, errors, storage_options)\u001b[0m\n\u001b[1;32m    868\u001b[0m \u001b[38;5;28;01melif\u001b[39;00m \u001b[38;5;28misinstance\u001b[39m(handle, \u001b[38;5;28mstr\u001b[39m):\n\u001b[1;32m    869\u001b[0m     \u001b[38;5;66;03m# Check whether the filename is to be opened in binary mode.\u001b[39;00m\n\u001b[1;32m    870\u001b[0m     \u001b[38;5;66;03m# Binary mode does not support 'encoding' and 'newline'.\u001b[39;00m\n\u001b[1;32m    871\u001b[0m     \u001b[38;5;28;01mif\u001b[39;00m ioargs\u001b[38;5;241m.\u001b[39mencoding \u001b[38;5;129;01mand\u001b[39;00m \u001b[38;5;124m\"\u001b[39m\u001b[38;5;124mb\u001b[39m\u001b[38;5;124m\"\u001b[39m \u001b[38;5;129;01mnot\u001b[39;00m \u001b[38;5;129;01min\u001b[39;00m ioargs\u001b[38;5;241m.\u001b[39mmode:\n\u001b[1;32m    872\u001b[0m         \u001b[38;5;66;03m# Encoding\u001b[39;00m\n\u001b[0;32m--> 873\u001b[0m         handle \u001b[38;5;241m=\u001b[39m \u001b[38;5;28;43mopen\u001b[39;49m\u001b[43m(\u001b[49m\n\u001b[1;32m    874\u001b[0m \u001b[43m            \u001b[49m\u001b[43mhandle\u001b[49m\u001b[43m,\u001b[49m\n\u001b[1;32m    875\u001b[0m \u001b[43m            \u001b[49m\u001b[43mioargs\u001b[49m\u001b[38;5;241;43m.\u001b[39;49m\u001b[43mmode\u001b[49m\u001b[43m,\u001b[49m\n\u001b[1;32m    876\u001b[0m \u001b[43m            \u001b[49m\u001b[43mencoding\u001b[49m\u001b[38;5;241;43m=\u001b[39;49m\u001b[43mioargs\u001b[49m\u001b[38;5;241;43m.\u001b[39;49m\u001b[43mencoding\u001b[49m\u001b[43m,\u001b[49m\n\u001b[1;32m    877\u001b[0m \u001b[43m            \u001b[49m\u001b[43merrors\u001b[49m\u001b[38;5;241;43m=\u001b[39;49m\u001b[43merrors\u001b[49m\u001b[43m,\u001b[49m\n\u001b[1;32m    878\u001b[0m \u001b[43m            \u001b[49m\u001b[43mnewline\u001b[49m\u001b[38;5;241;43m=\u001b[39;49m\u001b[38;5;124;43m\"\u001b[39;49m\u001b[38;5;124;43m\"\u001b[39;49m\u001b[43m,\u001b[49m\n\u001b[1;32m    879\u001b[0m \u001b[43m        \u001b[49m\u001b[43m)\u001b[49m\n\u001b[1;32m    880\u001b[0m     \u001b[38;5;28;01melse\u001b[39;00m:\n\u001b[1;32m    881\u001b[0m         \u001b[38;5;66;03m# Binary mode\u001b[39;00m\n\u001b[1;32m    882\u001b[0m         handle \u001b[38;5;241m=\u001b[39m \u001b[38;5;28mopen\u001b[39m(handle, ioargs\u001b[38;5;241m.\u001b[39mmode)\n",
      "\u001b[0;31mFileNotFoundError\u001b[0m: [Errno 2] No such file or directory: '/Users/frederikreimert/Documents/pyne/Pyne-Case/data/raw/data.csv'"
     ]
    }
   ],
   "source": [
    "pd.read_csv(data_path)"
   ]
  },
  {
   "cell_type": "code",
   "execution_count": 32,
   "metadata": {},
   "outputs": [
    {
     "name": "stderr",
     "output_type": "stream",
     "text": [
      "/var/folders/sv/_w7_lr4s79bd9y8fpvjxy5d80000gn/T/ipykernel_90917/1390657648.py:17: DtypeWarning: Columns (9) have mixed types. Specify dtype option on import or set low_memory=False.\n",
      "  df = pd.read_csv(cleaned_data_path)\n"
     ]
    }
   ],
   "source": [
    "data_path = \"/Users/frederikreimert/Documents/pyne/datast.csv\"\n",
    "\n",
    "# Remove quotation marks while respecting the CSV structure\n",
    "with open(data_path, \"r\") as infile, open(cleaned_data_path, \"w\", newline=\"\") as outfile:\n",
    "    reader = csv.reader(infile)\n",
    "    writer = csv.writer(outfile)\n",
    "    \n",
    "    for row in reader:\n",
    "        # Remove quotation marks from each field in the row\n",
    "        cleaned_row = [field.replace('\"', '').replace(\"'\", \"\") for field in row]\n",
    "        writer.writerow(cleaned_row)\n",
    "\n",
    "# Read the cleaned data into a DataFrame\n",
    "df = pd.read_csv(cleaned_data_path)\n",
    "\n",
    "# Display the DataFrame to verify the results"
   ]
  },
  {
   "cell_type": "code",
   "execution_count": 31,
   "metadata": {},
   "outputs": [
    {
     "data": {
      "text/html": [
       "<div>\n",
       "<style scoped>\n",
       "    .dataframe tbody tr th:only-of-type {\n",
       "        vertical-align: middle;\n",
       "    }\n",
       "\n",
       "    .dataframe tbody tr th {\n",
       "        vertical-align: top;\n",
       "    }\n",
       "\n",
       "    .dataframe thead th {\n",
       "        text-align: right;\n",
       "    }\n",
       "</style>\n",
       "<table border=\"1\" class=\"dataframe\">\n",
       "  <thead>\n",
       "    <tr style=\"text-align: right;\">\n",
       "      <th></th>\n",
       "      <th>created_at</th>\n",
       "      <th>order_id</th>\n",
       "      <th>product_id</th>\n",
       "      <th>variant_id</th>\n",
       "      <th>category</th>\n",
       "      <th>sub_category</th>\n",
       "      <th>customer</th>\n",
       "      <th>region_id</th>\n",
       "      <th>country</th>\n",
       "      <th>is_return</th>\n",
       "      <th>amount</th>\n",
       "    </tr>\n",
       "  </thead>\n",
       "  <tbody>\n",
       "    <tr>\n",
       "      <th>0</th>\n",
       "      <td>2024-08-27</td>\n",
       "      <td>vx4RiVjT6XvfkjWdQA3O6rUUPFscspB7QjB0/FWvzwQ=</td>\n",
       "      <td>jWgoMM8r6lsWP3h4KINnrUZnTLN7m+kpIYF9R6hG1hc=</td>\n",
       "      <td>WAFGZqPmkBj40El8lP4on6+BMhttmR7YLgxOvFXbjEQ=</td>\n",
       "      <td>m+2lTkoYtr7ppo2m1IoL6jIOqCLf0WypZdvBjXROXkE=</td>\n",
       "      <td>XC38mdL89KEz/09Ut71X2M4i0WrgAWDq1QptR0cp7XY=</td>\n",
       "      <td>LRnggyW2IpD0++HEyVz116OXW2LGgS42uNGSSw/O9lc=</td>\n",
       "      <td>nKJ7u9lRkMC/qOvCpQ6R0g6ehxB/UyEQwflGTDUE/GE=</td>\n",
       "      <td>United States</td>\n",
       "      <td>False</td>\n",
       "      <td>72.090353</td>\n",
       "    </tr>\n",
       "    <tr>\n",
       "      <th>1</th>\n",
       "      <td>2024-08-30</td>\n",
       "      <td>PMEdm5mRov6JU/x7+1d4SwQIC+JUBo55rJWbdDm8xvE=</td>\n",
       "      <td>QT2gWJ4XoBFoB2Grb7kRtpHCtdTTGo582jAZ+je2xpM=</td>\n",
       "      <td>w3FpMMab1L6qUUW53rui73Y4/PcK0EW9Oqr0rW289Do=</td>\n",
       "      <td>m+2lTkoYtr7ppo2m1IoL6jIOqCLf0WypZdvBjXROXkE=</td>\n",
       "      <td>XC38mdL89KEz/09Ut71X2M4i0WrgAWDq1QptR0cp7XY=</td>\n",
       "      <td>KQI3y2I19XiGdY4MqkjJ9MaI8MhFlcLNEbbhsa+f1G4=</td>\n",
       "      <td>i9BHgcqp9cgcr3yPSBn5s3QEH2ChUZdOgLGAxIGlMjM=</td>\n",
       "      <td>Thailand</td>\n",
       "      <td>False</td>\n",
       "      <td>60.490195</td>\n",
       "    </tr>\n",
       "    <tr>\n",
       "      <th>2</th>\n",
       "      <td>2024-08-30</td>\n",
       "      <td>PMEdm5mRov6JU/x7+1d4SwQIC+JUBo55rJWbdDm8xvE=</td>\n",
       "      <td>c48TJ4nfR2WJ6RRijgqReSZXkhcWs5TRZ71XPJal3og=</td>\n",
       "      <td>5MWEawhpYpr8KjMGcW90ANQOZoKB90hyV+lqgevE7JQ=</td>\n",
       "      <td>m+2lTkoYtr7ppo2m1IoL6jIOqCLf0WypZdvBjXROXkE=</td>\n",
       "      <td>tOvTXjypq93jfLRNgcnjFg7+D2oHiDTP4s2wbCDRECY=</td>\n",
       "      <td>KQI3y2I19XiGdY4MqkjJ9MaI8MhFlcLNEbbhsa+f1G4=</td>\n",
       "      <td>i9BHgcqp9cgcr3yPSBn5s3QEH2ChUZdOgLGAxIGlMjM=</td>\n",
       "      <td>Thailand</td>\n",
       "      <td>False</td>\n",
       "      <td>255.403044</td>\n",
       "    </tr>\n",
       "    <tr>\n",
       "      <th>3</th>\n",
       "      <td>2024-08-15</td>\n",
       "      <td>ctqIxY2WMolIzKnLcvrZdoGt0xF4KMlMWqE6P/6hk2Q=</td>\n",
       "      <td>lICQPCorJlheMZoMvnIn8Glu7NtxcHyqaJyH0pBDCVY=</td>\n",
       "      <td>tPA80ycXfHKlaFbpkvKpaATSNkIK890AGN7wgmAjl3U=</td>\n",
       "      <td>m+2lTkoYtr7ppo2m1IoL6jIOqCLf0WypZdvBjXROXkE=</td>\n",
       "      <td>tOvTXjypq93jfLRNgcnjFg7+D2oHiDTP4s2wbCDRECY=</td>\n",
       "      <td>s4MYzUBe1B/RPWoMoxABZBql01ASofOqDIobXHpg3lo=</td>\n",
       "      <td>2H5qmasH6O/j19ZWjQ63LCgmRseliCm8W3/qg4rhb8w=</td>\n",
       "      <td>South Korea</td>\n",
       "      <td>False</td>\n",
       "      <td>159.176484</td>\n",
       "    </tr>\n",
       "    <tr>\n",
       "      <th>4</th>\n",
       "      <td>2024-08-15</td>\n",
       "      <td>ctqIxY2WMolIzKnLcvrZdoGt0xF4KMlMWqE6P/6hk2Q=</td>\n",
       "      <td>sCRGjWwAPyDDkZpnapzF6iG+2gXPsvuNDLsvPHVOWLE=</td>\n",
       "      <td>ysz/LA5ti2NUAY8/V/2YsSUcbipQ+68SolMe/tK5lgo=</td>\n",
       "      <td>m+2lTkoYtr7ppo2m1IoL6jIOqCLf0WypZdvBjXROXkE=</td>\n",
       "      <td>XC38mdL89KEz/09Ut71X2M4i0WrgAWDq1QptR0cp7XY=</td>\n",
       "      <td>s4MYzUBe1B/RPWoMoxABZBql01ASofOqDIobXHpg3lo=</td>\n",
       "      <td>2H5qmasH6O/j19ZWjQ63LCgmRseliCm8W3/qg4rhb8w=</td>\n",
       "      <td>South Korea</td>\n",
       "      <td>False</td>\n",
       "      <td>62.773825</td>\n",
       "    </tr>\n",
       "  </tbody>\n",
       "</table>\n",
       "</div>"
      ],
      "text/plain": [
       "   created_at                                      order_id  \\\n",
       "0  2024-08-27  vx4RiVjT6XvfkjWdQA3O6rUUPFscspB7QjB0/FWvzwQ=   \n",
       "1  2024-08-30  PMEdm5mRov6JU/x7+1d4SwQIC+JUBo55rJWbdDm8xvE=   \n",
       "2  2024-08-30  PMEdm5mRov6JU/x7+1d4SwQIC+JUBo55rJWbdDm8xvE=   \n",
       "3  2024-08-15  ctqIxY2WMolIzKnLcvrZdoGt0xF4KMlMWqE6P/6hk2Q=   \n",
       "4  2024-08-15  ctqIxY2WMolIzKnLcvrZdoGt0xF4KMlMWqE6P/6hk2Q=   \n",
       "\n",
       "                                     product_id  \\\n",
       "0  jWgoMM8r6lsWP3h4KINnrUZnTLN7m+kpIYF9R6hG1hc=   \n",
       "1  QT2gWJ4XoBFoB2Grb7kRtpHCtdTTGo582jAZ+je2xpM=   \n",
       "2  c48TJ4nfR2WJ6RRijgqReSZXkhcWs5TRZ71XPJal3og=   \n",
       "3  lICQPCorJlheMZoMvnIn8Glu7NtxcHyqaJyH0pBDCVY=   \n",
       "4  sCRGjWwAPyDDkZpnapzF6iG+2gXPsvuNDLsvPHVOWLE=   \n",
       "\n",
       "                                     variant_id  \\\n",
       "0  WAFGZqPmkBj40El8lP4on6+BMhttmR7YLgxOvFXbjEQ=   \n",
       "1  w3FpMMab1L6qUUW53rui73Y4/PcK0EW9Oqr0rW289Do=   \n",
       "2  5MWEawhpYpr8KjMGcW90ANQOZoKB90hyV+lqgevE7JQ=   \n",
       "3  tPA80ycXfHKlaFbpkvKpaATSNkIK890AGN7wgmAjl3U=   \n",
       "4  ysz/LA5ti2NUAY8/V/2YsSUcbipQ+68SolMe/tK5lgo=   \n",
       "\n",
       "                                       category  \\\n",
       "0  m+2lTkoYtr7ppo2m1IoL6jIOqCLf0WypZdvBjXROXkE=   \n",
       "1  m+2lTkoYtr7ppo2m1IoL6jIOqCLf0WypZdvBjXROXkE=   \n",
       "2  m+2lTkoYtr7ppo2m1IoL6jIOqCLf0WypZdvBjXROXkE=   \n",
       "3  m+2lTkoYtr7ppo2m1IoL6jIOqCLf0WypZdvBjXROXkE=   \n",
       "4  m+2lTkoYtr7ppo2m1IoL6jIOqCLf0WypZdvBjXROXkE=   \n",
       "\n",
       "                                   sub_category  \\\n",
       "0  XC38mdL89KEz/09Ut71X2M4i0WrgAWDq1QptR0cp7XY=   \n",
       "1  XC38mdL89KEz/09Ut71X2M4i0WrgAWDq1QptR0cp7XY=   \n",
       "2  tOvTXjypq93jfLRNgcnjFg7+D2oHiDTP4s2wbCDRECY=   \n",
       "3  tOvTXjypq93jfLRNgcnjFg7+D2oHiDTP4s2wbCDRECY=   \n",
       "4  XC38mdL89KEz/09Ut71X2M4i0WrgAWDq1QptR0cp7XY=   \n",
       "\n",
       "                                       customer  \\\n",
       "0  LRnggyW2IpD0++HEyVz116OXW2LGgS42uNGSSw/O9lc=   \n",
       "1  KQI3y2I19XiGdY4MqkjJ9MaI8MhFlcLNEbbhsa+f1G4=   \n",
       "2  KQI3y2I19XiGdY4MqkjJ9MaI8MhFlcLNEbbhsa+f1G4=   \n",
       "3  s4MYzUBe1B/RPWoMoxABZBql01ASofOqDIobXHpg3lo=   \n",
       "4  s4MYzUBe1B/RPWoMoxABZBql01ASofOqDIobXHpg3lo=   \n",
       "\n",
       "                                      region_id        country is_return  \\\n",
       "0  nKJ7u9lRkMC/qOvCpQ6R0g6ehxB/UyEQwflGTDUE/GE=  United States     False   \n",
       "1  i9BHgcqp9cgcr3yPSBn5s3QEH2ChUZdOgLGAxIGlMjM=       Thailand     False   \n",
       "2  i9BHgcqp9cgcr3yPSBn5s3QEH2ChUZdOgLGAxIGlMjM=       Thailand     False   \n",
       "3  2H5qmasH6O/j19ZWjQ63LCgmRseliCm8W3/qg4rhb8w=    South Korea     False   \n",
       "4  2H5qmasH6O/j19ZWjQ63LCgmRseliCm8W3/qg4rhb8w=    South Korea     False   \n",
       "\n",
       "       amount  \n",
       "0   72.090353  \n",
       "1   60.490195  \n",
       "2  255.403044  \n",
       "3  159.176484  \n",
       "4   62.773825  "
      ]
     },
     "execution_count": 31,
     "metadata": {},
     "output_type": "execute_result"
    }
   ],
   "source": [
    "df.head()"
   ]
  },
  {
   "cell_type": "code",
   "execution_count": 33,
   "metadata": {},
   "outputs": [],
   "source": [
    "df['created_at'] = pd.to_datetime(df['created_at'])\n",
    "df['year'] = df['created_at'].dt.year\n",
    "df['month'] = df['created_at'].dt.month\n",
    "df['day_of_week'] = df['created_at'].dt.dayofweek\n",
    "column_names = df.columns\n"
   ]
  },
  {
   "cell_type": "code",
   "execution_count": 34,
   "metadata": {},
   "outputs": [
    {
     "name": "stdout",
     "output_type": "stream",
     "text": [
      "<class 'pandas.core.frame.DataFrame'>\n",
      "RangeIndex: 67712 entries, 0 to 67711\n",
      "Data columns (total 14 columns):\n",
      " #   Column        Non-Null Count  Dtype         \n",
      "---  ------        --------------  -----         \n",
      " 0   created_at    67712 non-null  datetime64[ns]\n",
      " 1   order_id      67712 non-null  object        \n",
      " 2   product_id    67702 non-null  object        \n",
      " 3   variant_id    67702 non-null  object        \n",
      " 4   category      67702 non-null  object        \n",
      " 5   sub_category  65507 non-null  object        \n",
      " 6   customer      67711 non-null  object        \n",
      " 7   region_id     67711 non-null  object        \n",
      " 8   country       67709 non-null  object        \n",
      " 9   is_return     67711 non-null  object        \n",
      " 10  amount        67711 non-null  float64       \n",
      " 11  year          67712 non-null  int32         \n",
      " 12  month         67712 non-null  int32         \n",
      " 13  day_of_week   67712 non-null  int32         \n",
      "dtypes: datetime64[ns](1), float64(1), int32(3), object(9)\n",
      "memory usage: 6.5+ MB\n"
     ]
    }
   ],
   "source": [
    "# Print overview of data\n",
    "df.info()"
   ]
  },
  {
   "cell_type": "code",
   "execution_count": 35,
   "metadata": {},
   "outputs": [],
   "source": [
    "df_cleaned = df.dropna()"
   ]
  },
  {
   "cell_type": "code",
   "execution_count": 36,
   "metadata": {},
   "outputs": [
    {
     "name": "stdout",
     "output_type": "stream",
     "text": [
      "<class 'pandas.core.frame.DataFrame'>\n",
      "Index: 65505 entries, 0 to 67710\n",
      "Data columns (total 14 columns):\n",
      " #   Column        Non-Null Count  Dtype         \n",
      "---  ------        --------------  -----         \n",
      " 0   created_at    65505 non-null  datetime64[ns]\n",
      " 1   order_id      65505 non-null  object        \n",
      " 2   product_id    65505 non-null  object        \n",
      " 3   variant_id    65505 non-null  object        \n",
      " 4   category      65505 non-null  object        \n",
      " 5   sub_category  65505 non-null  object        \n",
      " 6   customer      65505 non-null  object        \n",
      " 7   region_id     65505 non-null  object        \n",
      " 8   country       65505 non-null  object        \n",
      " 9   is_return     65505 non-null  object        \n",
      " 10  amount        65505 non-null  float64       \n",
      " 11  year          65505 non-null  int32         \n",
      " 12  month         65505 non-null  int32         \n",
      " 13  day_of_week   65505 non-null  int32         \n",
      "dtypes: datetime64[ns](1), float64(1), int32(3), object(9)\n",
      "memory usage: 6.7+ MB\n"
     ]
    }
   ],
   "source": [
    "df_cleaned.info()"
   ]
  },
  {
   "cell_type": "code",
   "execution_count": 11,
   "metadata": {},
   "outputs": [
    {
     "name": "stdout",
     "output_type": "stream",
     "text": [
      "An error occurred: Error tokenizing data. C error: EOF inside string starting at row 67712\n"
     ]
    }
   ],
   "source": [
    "import pandas as pd\n",
    "\n",
    "# File path\n",
    "data_path = \"/Users/frederikreimert/Documents/pyne/datast.csv\"\n",
    "\n",
    "# Read the CSV file and skip problematic rows\n",
    "try:\n",
    "    df = pd.read_csv(data_path, on_bad_lines='skip')\n",
    "    print(\"File loaded successfully!\")\n",
    "    print(df.head())  # Display the first few rows of the dataframe\n",
    "except Exception as e:\n",
    "    print(f\"An error occurred: {e}\")\n"
   ]
  },
  {
   "cell_type": "code",
   "execution_count": 70,
   "metadata": {},
   "outputs": [],
   "source": [
    "df['created_at'] = pd.to_datetime(df['created_at'])\n",
    "df['year'] = df['created_at'].dt.year\n",
    "df['month'] = df['created_at'].dt.month\n",
    "df['day_of_week'] = df['created_at'].dt.dayofweek\n",
    "column_names = df.columns\n"
   ]
  },
  {
   "cell_type": "code",
   "execution_count": 29,
   "metadata": {},
   "outputs": [
    {
     "name": "stdout",
     "output_type": "stream",
     "text": [
      "<class 'pandas.core.frame.DataFrame'>\n",
      "RangeIndex: 376563 entries, 0 to 376562\n",
      "Data columns (total 14 columns):\n",
      " #   Column        Non-Null Count   Dtype         \n",
      "---  ------        --------------   -----         \n",
      " 0   created_at    376563 non-null  datetime64[ns]\n",
      " 1   order_id      376563 non-null  object        \n",
      " 2   product_id    376553 non-null  object        \n",
      " 3   variant_id    376553 non-null  object        \n",
      " 4   category      376553 non-null  object        \n",
      " 5   sub_category  337537 non-null  object        \n",
      " 6   customer      376563 non-null  object        \n",
      " 7   region_id     376563 non-null  object        \n",
      " 8   country       376543 non-null  object        \n",
      " 9   is_return     376563 non-null  bool          \n",
      " 10  amount        376563 non-null  float64       \n",
      " 11  year          376563 non-null  int32         \n",
      " 12  month         376563 non-null  int32         \n",
      " 13  day_of_week   376563 non-null  int32         \n",
      "dtypes: bool(1), datetime64[ns](1), float64(1), int32(3), object(8)\n",
      "memory usage: 33.4+ MB\n"
     ]
    }
   ],
   "source": [
    "# Print overview of data\n",
    "df.info()"
   ]
  },
  {
   "cell_type": "code",
   "execution_count": 71,
   "metadata": {},
   "outputs": [
    {
     "name": "stdout",
     "output_type": "stream",
     "text": [
      "created_at                0\n",
      "order_id                  0\n",
      "product_id               10\n",
      "variant_id               10\n",
      "category                 10\n",
      "sub_category          39026\n",
      "customer                  0\n",
      "region_id                 0\n",
      "country                  20\n",
      "is_return                 0\n",
      "amount                    0\n",
      "year                      0\n",
      "month                     0\n",
      "day_of_week               0\n",
      "category_label            0\n",
      "sub_category_label        0\n",
      "region_label              0\n",
      "dtype: int64\n"
     ]
    }
   ],
   "source": [
    "# Count missing values for each column \n",
    "print(df.isnull().sum()) "
   ]
  },
  {
   "cell_type": "code",
   "execution_count": 72,
   "metadata": {},
   "outputs": [
    {
     "name": "stdout",
     "output_type": "stream",
     "text": [
      "196\n"
     ]
    }
   ],
   "source": [
    "# Count duplicate rows\n",
    "print(df.duplicated().sum())\n"
   ]
  },
  {
   "cell_type": "code",
   "execution_count": 73,
   "metadata": {},
   "outputs": [
    {
     "name": "stdout",
     "output_type": "stream",
     "text": [
      "created_at: 1557 unique values\n",
      "order_id: 148844 unique values\n",
      "product_id: 909 unique values\n",
      "variant_id: 4640 unique values\n",
      "category: 15 unique values\n",
      "sub_category: 67 unique values\n",
      "customer: 95384 unique values\n",
      "region_id: 42 unique values\n",
      "country: 62 unique values\n",
      "is_return: 2 unique values\n",
      "amount: 129316 unique values\n",
      "year: 5 unique values\n",
      "month: 12 unique values\n",
      "day_of_week: 7 unique values\n",
      "category_label: 16 unique values\n",
      "sub_category_label: 68 unique values\n",
      "region_label: 42 unique values\n"
     ]
    }
   ],
   "source": [
    "# Count unique values in every column\n",
    "for col in column_names:\n",
    "    print(f\"{col}: {df[col].nunique()} unique values\")\n"
   ]
  },
  {
   "cell_type": "code",
   "execution_count": 74,
   "metadata": {},
   "outputs": [
    {
     "ename": "KeyError",
     "evalue": "''",
     "output_type": "error",
     "traceback": [
      "\u001b[0;31m---------------------------------------------------------------------------\u001b[0m",
      "\u001b[0;31mKeyError\u001b[0m                                  Traceback (most recent call last)",
      "File \u001b[0;32m~/miniconda3/envs/deeplearn/lib/python3.12/site-packages/pandas/core/indexes/base.py:3805\u001b[0m, in \u001b[0;36mIndex.get_loc\u001b[0;34m(self, key)\u001b[0m\n\u001b[1;32m   3804\u001b[0m \u001b[38;5;28;01mtry\u001b[39;00m:\n\u001b[0;32m-> 3805\u001b[0m     \u001b[38;5;28;01mreturn\u001b[39;00m \u001b[38;5;28mself\u001b[39m\u001b[38;5;241m.\u001b[39m_engine\u001b[38;5;241m.\u001b[39mget_loc(casted_key)\n\u001b[1;32m   3806\u001b[0m \u001b[38;5;28;01mexcept\u001b[39;00m \u001b[38;5;167;01mKeyError\u001b[39;00m \u001b[38;5;28;01mas\u001b[39;00m err:\n",
      "File \u001b[0;32mindex.pyx:167\u001b[0m, in \u001b[0;36mpandas._libs.index.IndexEngine.get_loc\u001b[0;34m()\u001b[0m\n",
      "File \u001b[0;32mindex.pyx:196\u001b[0m, in \u001b[0;36mpandas._libs.index.IndexEngine.get_loc\u001b[0;34m()\u001b[0m\n",
      "File \u001b[0;32mpandas/_libs/hashtable_class_helper.pxi:7081\u001b[0m, in \u001b[0;36mpandas._libs.hashtable.PyObjectHashTable.get_item\u001b[0;34m()\u001b[0m\n",
      "File \u001b[0;32mpandas/_libs/hashtable_class_helper.pxi:7089\u001b[0m, in \u001b[0;36mpandas._libs.hashtable.PyObjectHashTable.get_item\u001b[0;34m()\u001b[0m\n",
      "\u001b[0;31mKeyError\u001b[0m: ''",
      "\nThe above exception was the direct cause of the following exception:\n",
      "\u001b[0;31mKeyError\u001b[0m                                  Traceback (most recent call last)",
      "Cell \u001b[0;32mIn[74], line 1\u001b[0m\n\u001b[0;32m----> 1\u001b[0m df_clean \u001b[38;5;241m=\u001b[39m df[\u001b[38;5;124m'\u001b[39m\u001b[38;5;124m'\u001b[39m]\n",
      "File \u001b[0;32m~/miniconda3/envs/deeplearn/lib/python3.12/site-packages/pandas/core/frame.py:4102\u001b[0m, in \u001b[0;36mDataFrame.__getitem__\u001b[0;34m(self, key)\u001b[0m\n\u001b[1;32m   4100\u001b[0m \u001b[38;5;28;01mif\u001b[39;00m \u001b[38;5;28mself\u001b[39m\u001b[38;5;241m.\u001b[39mcolumns\u001b[38;5;241m.\u001b[39mnlevels \u001b[38;5;241m>\u001b[39m \u001b[38;5;241m1\u001b[39m:\n\u001b[1;32m   4101\u001b[0m     \u001b[38;5;28;01mreturn\u001b[39;00m \u001b[38;5;28mself\u001b[39m\u001b[38;5;241m.\u001b[39m_getitem_multilevel(key)\n\u001b[0;32m-> 4102\u001b[0m indexer \u001b[38;5;241m=\u001b[39m \u001b[38;5;28mself\u001b[39m\u001b[38;5;241m.\u001b[39mcolumns\u001b[38;5;241m.\u001b[39mget_loc(key)\n\u001b[1;32m   4103\u001b[0m \u001b[38;5;28;01mif\u001b[39;00m is_integer(indexer):\n\u001b[1;32m   4104\u001b[0m     indexer \u001b[38;5;241m=\u001b[39m [indexer]\n",
      "File \u001b[0;32m~/miniconda3/envs/deeplearn/lib/python3.12/site-packages/pandas/core/indexes/base.py:3812\u001b[0m, in \u001b[0;36mIndex.get_loc\u001b[0;34m(self, key)\u001b[0m\n\u001b[1;32m   3807\u001b[0m     \u001b[38;5;28;01mif\u001b[39;00m \u001b[38;5;28misinstance\u001b[39m(casted_key, \u001b[38;5;28mslice\u001b[39m) \u001b[38;5;129;01mor\u001b[39;00m (\n\u001b[1;32m   3808\u001b[0m         \u001b[38;5;28misinstance\u001b[39m(casted_key, abc\u001b[38;5;241m.\u001b[39mIterable)\n\u001b[1;32m   3809\u001b[0m         \u001b[38;5;129;01mand\u001b[39;00m \u001b[38;5;28many\u001b[39m(\u001b[38;5;28misinstance\u001b[39m(x, \u001b[38;5;28mslice\u001b[39m) \u001b[38;5;28;01mfor\u001b[39;00m x \u001b[38;5;129;01min\u001b[39;00m casted_key)\n\u001b[1;32m   3810\u001b[0m     ):\n\u001b[1;32m   3811\u001b[0m         \u001b[38;5;28;01mraise\u001b[39;00m InvalidIndexError(key)\n\u001b[0;32m-> 3812\u001b[0m     \u001b[38;5;28;01mraise\u001b[39;00m \u001b[38;5;167;01mKeyError\u001b[39;00m(key) \u001b[38;5;28;01mfrom\u001b[39;00m \u001b[38;5;21;01merr\u001b[39;00m\n\u001b[1;32m   3813\u001b[0m \u001b[38;5;28;01mexcept\u001b[39;00m \u001b[38;5;167;01mTypeError\u001b[39;00m:\n\u001b[1;32m   3814\u001b[0m     \u001b[38;5;66;03m# If we have a listlike key, _check_indexing_error will raise\u001b[39;00m\n\u001b[1;32m   3815\u001b[0m     \u001b[38;5;66;03m#  InvalidIndexError. Otherwise we fall through and re-raise\u001b[39;00m\n\u001b[1;32m   3816\u001b[0m     \u001b[38;5;66;03m#  the TypeError.\u001b[39;00m\n\u001b[1;32m   3817\u001b[0m     \u001b[38;5;28mself\u001b[39m\u001b[38;5;241m.\u001b[39m_check_indexing_error(key)\n",
      "\u001b[0;31mKeyError\u001b[0m: ''"
     ]
    }
   ],
   "source": [
    "df_clean = df['']"
   ]
  },
  {
   "cell_type": "markdown",
   "metadata": {},
   "source": [
    "# AMOUNT COLUMN EXPLORATION"
   ]
  },
  {
   "cell_type": "code",
   "execution_count": 36,
   "metadata": {},
   "outputs": [
    {
     "data": {
      "image/png": "[encoded data removed]",
      "text/plain": [
       "<Figure size 640x480 with 1 Axes>"
      ]
     },
     "metadata": {},
     "output_type": "display_data"
    }
   ],
   "source": [
    "df.boxplot(column=['amount'])\n",
    "plt.show()\n"
   ]
  },
  {
   "cell_type": "code",
   "execution_count": 37,
   "metadata": {},
   "outputs": [
    {
     "data": {
      "image/png": "[encoded data removed]",
      "text/plain": [
       "<Figure size 640x480 with 1 Axes>"
      ]
     },
     "metadata": {},
     "output_type": "display_data"
    }
   ],
   "source": [
    "df['amount'].describe()\n",
    "df['amount'].plot(kind='hist', bins=1000)  # Distribution\n",
    "plt.show()\n"
   ]
  },
  {
   "cell_type": "code",
   "execution_count": null,
   "metadata": {},
   "outputs": [
    {
     "data": {
      "image/png": "[encoded data removed]",
      "text/plain": [
       "<Figure size 640x480 with 1 Axes>"
      ]
     },
     "metadata": {},
     "output_type": "display_data"
    }
   ],
   "source": [
    "df.groupby('month')['order_id'].count().plot(kind='line')\n",
    "plt.show()\n"
   ]
  },
  {
   "cell_type": "code",
   "execution_count": 23,
   "metadata": {},
   "outputs": [
    {
     "name": "stdout",
     "output_type": "stream",
     "text": [
      "is_return\n",
      "False    376551\n",
      "True         12\n",
      "Name: count, dtype: int64\n"
     ]
    }
   ],
   "source": [
    "# Check return rates\n",
    "print(df['is_return'].value_counts()) \n"
   ]
  },
  {
   "cell_type": "code",
   "execution_count": 80,
   "metadata": {},
   "outputs": [],
   "source": [
    "# Order mapping\n",
    "order_id_mapping = {hash_id: idx for idx, hash_id in enumerate(df['order_id'].unique())}\n",
    "df['order_id_label'] = df['order_id'].map(order_id_mapping)\n",
    "\n",
    "\n",
    "# Example for 'category' mapping\n",
    "category_mapping = {hash_id: f\"Category {chr(65 + idx)}\" for idx, hash_id in enumerate(df['category'].unique())}\n",
    "df['category_label'] = df['category'].map(category_mapping)\n",
    "\n",
    "# Create the mapping for 'sub_category', specific to each category\n",
    "sub_category_mapping = {}\n",
    "\n",
    "for category, group in df.groupby('category'):\n",
    "    # Get the corresponding category label\n",
    "    category_label = category_mapping[category]\n",
    "    category_letter = category_label.split()[-1]  # Extract the letter, e.g., \"A\" from \"Category A\"\n",
    "    \n",
    "    # Assign subcategory labels like A1, A2, A3\n",
    "    sub_categories = group['sub_category'].unique()\n",
    "    for idx, sub_category in enumerate(sub_categories):\n",
    "        sub_category_mapping[sub_category] = f\"{category_letter}{idx + 1}\"\n",
    "\n",
    "# Apply the sub_category_mapping\n",
    "df['sub_category_label'] = df['sub_category'].map(sub_category_mapping)\n",
    "\n",
    "\n",
    "# Example for 'region_id' mapping\n",
    "region_mapping = {hash_id: f\"Region {chr(65 + idx)}\" for idx, hash_id in enumerate(df['region_id'].unique())}\n",
    "df['region_label'] = df['region_id'].map(region_mapping)\n",
    "\n",
    "\n"
   ]
  },
  {
   "cell_type": "code",
   "execution_count": 81,
   "metadata": {},
   "outputs": [
    {
     "data": {
      "text/plain": [
       "0              0\n",
       "1              1\n",
       "2              1\n",
       "3              2\n",
       "4              2\n",
       "           ...  \n",
       "376558    127243\n",
       "376559     99325\n",
       "376560     99326\n",
       "376561    146086\n",
       "376562    127244\n",
       "Name: order_id_label, Length: 376563, dtype: int64"
      ]
     },
     "execution_count": 81,
     "metadata": {},
     "output_type": "execute_result"
    }
   ],
   "source": [
    "df['order_id_label']"
   ]
  },
  {
   "cell_type": "code",
   "execution_count": 77,
   "metadata": {},
   "outputs": [
    {
     "name": "stdout",
     "output_type": "stream",
     "text": [
      "<class 'pandas.core.frame.DataFrame'>\n",
      "RangeIndex: 376563 entries, 0 to 376562\n",
      "Data columns (total 17 columns):\n",
      " #   Column              Non-Null Count   Dtype         \n",
      "---  ------              --------------   -----         \n",
      " 0   created_at          376563 non-null  datetime64[ns]\n",
      " 1   order_id            376563 non-null  object        \n",
      " 2   product_id          376553 non-null  object        \n",
      " 3   variant_id          376553 non-null  object        \n",
      " 4   category            376553 non-null  object        \n",
      " 5   sub_category        337537 non-null  object        \n",
      " 6   customer            376563 non-null  object        \n",
      " 7   region_id           376563 non-null  object        \n",
      " 8   country             376543 non-null  object        \n",
      " 9   is_return           376563 non-null  bool          \n",
      " 10  amount              376563 non-null  float64       \n",
      " 11  year                376563 non-null  int32         \n",
      " 12  month               376563 non-null  int32         \n",
      " 13  day_of_week         376563 non-null  int32         \n",
      " 14  category_label      376563 non-null  object        \n",
      " 15  sub_category_label  376563 non-null  object        \n",
      " 16  region_label        376563 non-null  object        \n",
      "dtypes: bool(1), datetime64[ns](1), float64(1), int32(3), object(11)\n",
      "memory usage: 42.0+ MB\n"
     ]
    }
   ],
   "source": [
    "df.info()"
   ]
  },
  {
   "cell_type": "code",
   "execution_count": null,
   "metadata": {},
   "outputs": [],
   "source": [
    "df_clean = df['created_at',\n",
    "              ]"
   ]
  },
  {
   "cell_type": "code",
   "execution_count": 68,
   "metadata": {},
   "outputs": [
    {
     "data": {
      "text/html": [
       "<div>\n",
       "<style scoped>\n",
       "    .dataframe tbody tr th:only-of-type {\n",
       "        vertical-align: middle;\n",
       "    }\n",
       "\n",
       "    .dataframe tbody tr th {\n",
       "        vertical-align: top;\n",
       "    }\n",
       "\n",
       "    .dataframe thead th {\n",
       "        text-align: right;\n",
       "    }\n",
       "</style>\n",
       "<table border=\"1\" class=\"dataframe\">\n",
       "  <thead>\n",
       "    <tr style=\"text-align: right;\">\n",
       "      <th></th>\n",
       "      <th>created_at</th>\n",
       "      <th>order_id</th>\n",
       "      <th>product_id</th>\n",
       "      <th>variant_id</th>\n",
       "      <th>category</th>\n",
       "      <th>sub_category</th>\n",
       "      <th>customer</th>\n",
       "      <th>region_id</th>\n",
       "      <th>country</th>\n",
       "      <th>is_return</th>\n",
       "      <th>amount</th>\n",
       "      <th>year</th>\n",
       "      <th>month</th>\n",
       "      <th>day_of_week</th>\n",
       "      <th>category_label</th>\n",
       "      <th>sub_category_label</th>\n",
       "      <th>region_label</th>\n",
       "    </tr>\n",
       "  </thead>\n",
       "  <tbody>\n",
       "    <tr>\n",
       "      <th>0</th>\n",
       "      <td>2024-08-27</td>\n",
       "      <td>vx4RiVjT6XvfkjWdQA3O6rUUPFscspB7QjB0/FWvzwQ=</td>\n",
       "      <td>jWgoMM8r6lsWP3h4KINnrUZnTLN7m+kpIYF9R6hG1hc=</td>\n",
       "      <td>WAFGZqPmkBj40El8lP4on6+BMhttmR7YLgxOvFXbjEQ=</td>\n",
       "      <td>m+2lTkoYtr7ppo2m1IoL6jIOqCLf0WypZdvBjXROXkE=</td>\n",
       "      <td>XC38mdL89KEz/09Ut71X2M4i0WrgAWDq1QptR0cp7XY=</td>\n",
       "      <td>LRnggyW2IpD0++HEyVz116OXW2LGgS42uNGSSw/O9lc=</td>\n",
       "      <td>nKJ7u9lRkMC/qOvCpQ6R0g6ehxB/UyEQwflGTDUE/GE=</td>\n",
       "      <td>United States</td>\n",
       "      <td>False</td>\n",
       "      <td>72.090353</td>\n",
       "      <td>2024</td>\n",
       "      <td>8</td>\n",
       "      <td>27</td>\n",
       "      <td>Category A</td>\n",
       "      <td>A1</td>\n",
       "      <td>Region A</td>\n",
       "    </tr>\n",
       "    <tr>\n",
       "      <th>1</th>\n",
       "      <td>2024-08-30</td>\n",
       "      <td>PMEdm5mRov6JU/x7+1d4SwQIC+JUBo55rJWbdDm8xvE=</td>\n",
       "      <td>QT2gWJ4XoBFoB2Grb7kRtpHCtdTTGo582jAZ+je2xpM=</td>\n",
       "      <td>w3FpMMab1L6qUUW53rui73Y4/PcK0EW9Oqr0rW289Do=</td>\n",
       "      <td>m+2lTkoYtr7ppo2m1IoL6jIOqCLf0WypZdvBjXROXkE=</td>\n",
       "      <td>XC38mdL89KEz/09Ut71X2M4i0WrgAWDq1QptR0cp7XY=</td>\n",
       "      <td>KQI3y2I19XiGdY4MqkjJ9MaI8MhFlcLNEbbhsa+f1G4=</td>\n",
       "      <td>i9BHgcqp9cgcr3yPSBn5s3QEH2ChUZdOgLGAxIGlMjM=</td>\n",
       "      <td>Thailand</td>\n",
       "      <td>False</td>\n",
       "      <td>60.490195</td>\n",
       "      <td>2024</td>\n",
       "      <td>8</td>\n",
       "      <td>30</td>\n",
       "      <td>Category A</td>\n",
       "      <td>A1</td>\n",
       "      <td>Region B</td>\n",
       "    </tr>\n",
       "    <tr>\n",
       "      <th>2</th>\n",
       "      <td>2024-08-30</td>\n",
       "      <td>PMEdm5mRov6JU/x7+1d4SwQIC+JUBo55rJWbdDm8xvE=</td>\n",
       "      <td>c48TJ4nfR2WJ6RRijgqReSZXkhcWs5TRZ71XPJal3og=</td>\n",
       "      <td>5MWEawhpYpr8KjMGcW90ANQOZoKB90hyV+lqgevE7JQ=</td>\n",
       "      <td>m+2lTkoYtr7ppo2m1IoL6jIOqCLf0WypZdvBjXROXkE=</td>\n",
       "      <td>tOvTXjypq93jfLRNgcnjFg7+D2oHiDTP4s2wbCDRECY=</td>\n",
       "      <td>KQI3y2I19XiGdY4MqkjJ9MaI8MhFlcLNEbbhsa+f1G4=</td>\n",
       "      <td>i9BHgcqp9cgcr3yPSBn5s3QEH2ChUZdOgLGAxIGlMjM=</td>\n",
       "      <td>Thailand</td>\n",
       "      <td>False</td>\n",
       "      <td>255.403044</td>\n",
       "      <td>2024</td>\n",
       "      <td>8</td>\n",
       "      <td>30</td>\n",
       "      <td>Category A</td>\n",
       "      <td>A2</td>\n",
       "      <td>Region B</td>\n",
       "    </tr>\n",
       "    <tr>\n",
       "      <th>3</th>\n",
       "      <td>2024-08-15</td>\n",
       "      <td>ctqIxY2WMolIzKnLcvrZdoGt0xF4KMlMWqE6P/6hk2Q=</td>\n",
       "      <td>lICQPCorJlheMZoMvnIn8Glu7NtxcHyqaJyH0pBDCVY=</td>\n",
       "      <td>tPA80ycXfHKlaFbpkvKpaATSNkIK890AGN7wgmAjl3U=</td>\n",
       "      <td>m+2lTkoYtr7ppo2m1IoL6jIOqCLf0WypZdvBjXROXkE=</td>\n",
       "      <td>tOvTXjypq93jfLRNgcnjFg7+D2oHiDTP4s2wbCDRECY=</td>\n",
       "      <td>s4MYzUBe1B/RPWoMoxABZBql01ASofOqDIobXHpg3lo=</td>\n",
       "      <td>2H5qmasH6O/j19ZWjQ63LCgmRseliCm8W3/qg4rhb8w=</td>\n",
       "      <td>South Korea</td>\n",
       "      <td>False</td>\n",
       "      <td>159.176484</td>\n",
       "      <td>2024</td>\n",
       "      <td>8</td>\n",
       "      <td>15</td>\n",
       "      <td>Category A</td>\n",
       "      <td>A2</td>\n",
       "      <td>Region C</td>\n",
       "    </tr>\n",
       "    <tr>\n",
       "      <th>4</th>\n",
       "      <td>2024-08-15</td>\n",
       "      <td>ctqIxY2WMolIzKnLcvrZdoGt0xF4KMlMWqE6P/6hk2Q=</td>\n",
       "      <td>sCRGjWwAPyDDkZpnapzF6iG+2gXPsvuNDLsvPHVOWLE=</td>\n",
       "      <td>ysz/LA5ti2NUAY8/V/2YsSUcbipQ+68SolMe/tK5lgo=</td>\n",
       "      <td>m+2lTkoYtr7ppo2m1IoL6jIOqCLf0WypZdvBjXROXkE=</td>\n",
       "      <td>XC38mdL89KEz/09Ut71X2M4i0WrgAWDq1QptR0cp7XY=</td>\n",
       "      <td>s4MYzUBe1B/RPWoMoxABZBql01ASofOqDIobXHpg3lo=</td>\n",
       "      <td>2H5qmasH6O/j19ZWjQ63LCgmRseliCm8W3/qg4rhb8w=</td>\n",
       "      <td>South Korea</td>\n",
       "      <td>False</td>\n",
       "      <td>62.773825</td>\n",
       "      <td>2024</td>\n",
       "      <td>8</td>\n",
       "      <td>15</td>\n",
       "      <td>Category A</td>\n",
       "      <td>A1</td>\n",
       "      <td>Region C</td>\n",
       "    </tr>\n",
       "  </tbody>\n",
       "</table>\n",
       "</div>"
      ],
      "text/plain": [
       "  created_at                                      order_id  \\\n",
       "0 2024-08-27  vx4RiVjT6XvfkjWdQA3O6rUUPFscspB7QjB0/FWvzwQ=   \n",
       "1 2024-08-30  PMEdm5mRov6JU/x7+1d4SwQIC+JUBo55rJWbdDm8xvE=   \n",
       "2 2024-08-30  PMEdm5mRov6JU/x7+1d4SwQIC+JUBo55rJWbdDm8xvE=   \n",
       "3 2024-08-15  ctqIxY2WMolIzKnLcvrZdoGt0xF4KMlMWqE6P/6hk2Q=   \n",
       "4 2024-08-15  ctqIxY2WMolIzKnLcvrZdoGt0xF4KMlMWqE6P/6hk2Q=   \n",
       "\n",
       "                                     product_id  \\\n",
       "0  jWgoMM8r6lsWP3h4KINnrUZnTLN7m+kpIYF9R6hG1hc=   \n",
       "1  QT2gWJ4XoBFoB2Grb7kRtpHCtdTTGo582jAZ+je2xpM=   \n",
       "2  c48TJ4nfR2WJ6RRijgqReSZXkhcWs5TRZ71XPJal3og=   \n",
       "3  lICQPCorJlheMZoMvnIn8Glu7NtxcHyqaJyH0pBDCVY=   \n",
       "4  sCRGjWwAPyDDkZpnapzF6iG+2gXPsvuNDLsvPHVOWLE=   \n",
       "\n",
       "                                     variant_id  \\\n",
       "0  WAFGZqPmkBj40El8lP4on6+BMhttmR7YLgxOvFXbjEQ=   \n",
       "1  w3FpMMab1L6qUUW53rui73Y4/PcK0EW9Oqr0rW289Do=   \n",
       "2  5MWEawhpYpr8KjMGcW90ANQOZoKB90hyV+lqgevE7JQ=   \n",
       "3  tPA80ycXfHKlaFbpkvKpaATSNkIK890AGN7wgmAjl3U=   \n",
       "4  ysz/LA5ti2NUAY8/V/2YsSUcbipQ+68SolMe/tK5lgo=   \n",
       "\n",
       "                                       category  \\\n",
       "0  m+2lTkoYtr7ppo2m1IoL6jIOqCLf0WypZdvBjXROXkE=   \n",
       "1  m+2lTkoYtr7ppo2m1IoL6jIOqCLf0WypZdvBjXROXkE=   \n",
       "2  m+2lTkoYtr7ppo2m1IoL6jIOqCLf0WypZdvBjXROXkE=   \n",
       "3  m+2lTkoYtr7ppo2m1IoL6jIOqCLf0WypZdvBjXROXkE=   \n",
       "4  m+2lTkoYtr7ppo2m1IoL6jIOqCLf0WypZdvBjXROXkE=   \n",
       "\n",
       "                                   sub_category  \\\n",
       "0  XC38mdL89KEz/09Ut71X2M4i0WrgAWDq1QptR0cp7XY=   \n",
       "1  XC38mdL89KEz/09Ut71X2M4i0WrgAWDq1QptR0cp7XY=   \n",
       "2  tOvTXjypq93jfLRNgcnjFg7+D2oHiDTP4s2wbCDRECY=   \n",
       "3  tOvTXjypq93jfLRNgcnjFg7+D2oHiDTP4s2wbCDRECY=   \n",
       "4  XC38mdL89KEz/09Ut71X2M4i0WrgAWDq1QptR0cp7XY=   \n",
       "\n",
       "                                       customer  \\\n",
       "0  LRnggyW2IpD0++HEyVz116OXW2LGgS42uNGSSw/O9lc=   \n",
       "1  KQI3y2I19XiGdY4MqkjJ9MaI8MhFlcLNEbbhsa+f1G4=   \n",
       "2  KQI3y2I19XiGdY4MqkjJ9MaI8MhFlcLNEbbhsa+f1G4=   \n",
       "3  s4MYzUBe1B/RPWoMoxABZBql01ASofOqDIobXHpg3lo=   \n",
       "4  s4MYzUBe1B/RPWoMoxABZBql01ASofOqDIobXHpg3lo=   \n",
       "\n",
       "                                      region_id        country  is_return  \\\n",
       "0  nKJ7u9lRkMC/qOvCpQ6R0g6ehxB/UyEQwflGTDUE/GE=  United States      False   \n",
       "1  i9BHgcqp9cgcr3yPSBn5s3QEH2ChUZdOgLGAxIGlMjM=       Thailand      False   \n",
       "2  i9BHgcqp9cgcr3yPSBn5s3QEH2ChUZdOgLGAxIGlMjM=       Thailand      False   \n",
       "3  2H5qmasH6O/j19ZWjQ63LCgmRseliCm8W3/qg4rhb8w=    South Korea      False   \n",
       "4  2H5qmasH6O/j19ZWjQ63LCgmRseliCm8W3/qg4rhb8w=    South Korea      False   \n",
       "\n",
       "       amount  year  month  day_of_week category_label sub_category_label  \\\n",
       "0   72.090353  2024      8           27     Category A                 A1   \n",
       "1   60.490195  2024      8           30     Category A                 A1   \n",
       "2  255.403044  2024      8           30     Category A                 A2   \n",
       "3  159.176484  2024      8           15     Category A                 A2   \n",
       "4   62.773825  2024      8           15     Category A                 A1   \n",
       "\n",
       "  region_label  \n",
       "0     Region A  \n",
       "1     Region B  \n",
       "2     Region B  \n",
       "3     Region C  \n",
       "4     Region C  "
      ]
     },
     "execution_count": 68,
     "metadata": {},
     "output_type": "execute_result"
    }
   ],
   "source": [
    "df.head()"
   ]
  },
  {
   "cell_type": "code",
   "execution_count": 69,
   "metadata": {},
   "outputs": [
    {
     "data": {
      "text/plain": [
       "<bound method DataFrame.info of        created_at                                      order_id  \\\n",
       "0      2024-08-27  vx4RiVjT6XvfkjWdQA3O6rUUPFscspB7QjB0/FWvzwQ=   \n",
       "1      2024-08-30  PMEdm5mRov6JU/x7+1d4SwQIC+JUBo55rJWbdDm8xvE=   \n",
       "2      2024-08-30  PMEdm5mRov6JU/x7+1d4SwQIC+JUBo55rJWbdDm8xvE=   \n",
       "3      2024-08-15  ctqIxY2WMolIzKnLcvrZdoGt0xF4KMlMWqE6P/6hk2Q=   \n",
       "4      2024-08-15  ctqIxY2WMolIzKnLcvrZdoGt0xF4KMlMWqE6P/6hk2Q=   \n",
       "...           ...                                           ...   \n",
       "376558 2024-10-19  SAi403MCibQxOGWB0EeKbSVh4EQumRFR7lpyds/A4g0=   \n",
       "376559 2024-01-19  lwsBWcE7YEu2XxDamgWP8rJ2ENMTtKPMkafXfsdxWfM=   \n",
       "376560 2023-06-23  GU7e35iBxUbjuuoM0fp5yyD/4oUe7mNxf8L3sqdWlC0=   \n",
       "376561 2024-11-29  ewl05WLAtczcKooutRdqknDZtCMYcBoRvxCbKAJ1EbE=   \n",
       "376562 2023-12-22  KJn9Pqd/J363x7m7553KJyikr1HbMe0Iwx7XSb87JnE=   \n",
       "\n",
       "                                          product_id  \\\n",
       "0       jWgoMM8r6lsWP3h4KINnrUZnTLN7m+kpIYF9R6hG1hc=   \n",
       "1       QT2gWJ4XoBFoB2Grb7kRtpHCtdTTGo582jAZ+je2xpM=   \n",
       "2       c48TJ4nfR2WJ6RRijgqReSZXkhcWs5TRZ71XPJal3og=   \n",
       "3       lICQPCorJlheMZoMvnIn8Glu7NtxcHyqaJyH0pBDCVY=   \n",
       "4       sCRGjWwAPyDDkZpnapzF6iG+2gXPsvuNDLsvPHVOWLE=   \n",
       "...                                              ...   \n",
       "376558  OXBe954DrIsTKMrcrSQf4jeUxXVLXmnP3Di6xWtvPss=   \n",
       "376559  OXBe954DrIsTKMrcrSQf4jeUxXVLXmnP3Di6xWtvPss=   \n",
       "376560  q+cMGMHDSyH8iHgpcCfoeAIN2HiEjHqNrkt+KZDgrvE=   \n",
       "376561  OXBe954DrIsTKMrcrSQf4jeUxXVLXmnP3Di6xWtvPss=   \n",
       "376562  q+cMGMHDSyH8iHgpcCfoeAIN2HiEjHqNrkt+KZDgrvE=   \n",
       "\n",
       "                                          variant_id  \\\n",
       "0       WAFGZqPmkBj40El8lP4on6+BMhttmR7YLgxOvFXbjEQ=   \n",
       "1       w3FpMMab1L6qUUW53rui73Y4/PcK0EW9Oqr0rW289Do=   \n",
       "2       5MWEawhpYpr8KjMGcW90ANQOZoKB90hyV+lqgevE7JQ=   \n",
       "3       tPA80ycXfHKlaFbpkvKpaATSNkIK890AGN7wgmAjl3U=   \n",
       "4       ysz/LA5ti2NUAY8/V/2YsSUcbipQ+68SolMe/tK5lgo=   \n",
       "...                                              ...   \n",
       "376558  V14ToQmWIENAWcb0enJzhuy/oPrfeHxEpgMAeEVVo0I=   \n",
       "376559  V14ToQmWIENAWcb0enJzhuy/oPrfeHxEpgMAeEVVo0I=   \n",
       "376560  DgMu+Vi9odPq3Cteq1FikxrCA+1T14DOxiIZIkcsQRk=   \n",
       "376561  V14ToQmWIENAWcb0enJzhuy/oPrfeHxEpgMAeEVVo0I=   \n",
       "376562  DgMu+Vi9odPq3Cteq1FikxrCA+1T14DOxiIZIkcsQRk=   \n",
       "\n",
       "                                            category  \\\n",
       "0       m+2lTkoYtr7ppo2m1IoL6jIOqCLf0WypZdvBjXROXkE=   \n",
       "1       m+2lTkoYtr7ppo2m1IoL6jIOqCLf0WypZdvBjXROXkE=   \n",
       "2       m+2lTkoYtr7ppo2m1IoL6jIOqCLf0WypZdvBjXROXkE=   \n",
       "3       m+2lTkoYtr7ppo2m1IoL6jIOqCLf0WypZdvBjXROXkE=   \n",
       "4       m+2lTkoYtr7ppo2m1IoL6jIOqCLf0WypZdvBjXROXkE=   \n",
       "...                                              ...   \n",
       "376558  +X6doOO4efCp35ea4mCl9+E3HtsSfBhi1PhhmBFmzcE=   \n",
       "376559  +X6doOO4efCp35ea4mCl9+E3HtsSfBhi1PhhmBFmzcE=   \n",
       "376560  +X6doOO4efCp35ea4mCl9+E3HtsSfBhi1PhhmBFmzcE=   \n",
       "376561  +X6doOO4efCp35ea4mCl9+E3HtsSfBhi1PhhmBFmzcE=   \n",
       "376562  +X6doOO4efCp35ea4mCl9+E3HtsSfBhi1PhhmBFmzcE=   \n",
       "\n",
       "                                        sub_category  \\\n",
       "0       XC38mdL89KEz/09Ut71X2M4i0WrgAWDq1QptR0cp7XY=   \n",
       "1       XC38mdL89KEz/09Ut71X2M4i0WrgAWDq1QptR0cp7XY=   \n",
       "2       tOvTXjypq93jfLRNgcnjFg7+D2oHiDTP4s2wbCDRECY=   \n",
       "3       tOvTXjypq93jfLRNgcnjFg7+D2oHiDTP4s2wbCDRECY=   \n",
       "4       XC38mdL89KEz/09Ut71X2M4i0WrgAWDq1QptR0cp7XY=   \n",
       "...                                              ...   \n",
       "376558                                           NaN   \n",
       "376559                                           NaN   \n",
       "376560                                           NaN   \n",
       "376561                                           NaN   \n",
       "376562                                           NaN   \n",
       "\n",
       "                                            customer  \\\n",
       "0       LRnggyW2IpD0++HEyVz116OXW2LGgS42uNGSSw/O9lc=   \n",
       "1       KQI3y2I19XiGdY4MqkjJ9MaI8MhFlcLNEbbhsa+f1G4=   \n",
       "2       KQI3y2I19XiGdY4MqkjJ9MaI8MhFlcLNEbbhsa+f1G4=   \n",
       "3       s4MYzUBe1B/RPWoMoxABZBql01ASofOqDIobXHpg3lo=   \n",
       "4       s4MYzUBe1B/RPWoMoxABZBql01ASofOqDIobXHpg3lo=   \n",
       "...                                              ...   \n",
       "376558  smOtGFB4JSaW0rJYmodSqZzDR7R9QBCmAT0xa3oMINA=   \n",
       "376559  TwhLkwvA/paGYlP00hVFh1ixQU6+29Wt4PpcEqoO0F0=   \n",
       "376560  JY9MwzHdx19bujvbcRg2b5ym9NzeloOXVi2H7FGxVXo=   \n",
       "376561  /DCC6kFCjtaAAHF7rer5dOgFnbd+oPKSrPzBhUsWGPg=   \n",
       "376562  SOQ4X2DGFml+sqeq2h9CuRb0kD4x1HqtkJJELvHNYBs=   \n",
       "\n",
       "                                           region_id        country  \\\n",
       "0       nKJ7u9lRkMC/qOvCpQ6R0g6ehxB/UyEQwflGTDUE/GE=  United States   \n",
       "1       i9BHgcqp9cgcr3yPSBn5s3QEH2ChUZdOgLGAxIGlMjM=       Thailand   \n",
       "2       i9BHgcqp9cgcr3yPSBn5s3QEH2ChUZdOgLGAxIGlMjM=       Thailand   \n",
       "3       2H5qmasH6O/j19ZWjQ63LCgmRseliCm8W3/qg4rhb8w=    South Korea   \n",
       "4       2H5qmasH6O/j19ZWjQ63LCgmRseliCm8W3/qg4rhb8w=    South Korea   \n",
       "...                                              ...            ...   \n",
       "376558  HQ6n9CeKz4MZnY6v5/aOrMCVI4lF7N1uaHRz7gBmykE=        Denmark   \n",
       "376559  HQ6n9CeKz4MZnY6v5/aOrMCVI4lF7N1uaHRz7gBmykE=        Denmark   \n",
       "376560  HQ6n9CeKz4MZnY6v5/aOrMCVI4lF7N1uaHRz7gBmykE=        Denmark   \n",
       "376561  HQ6n9CeKz4MZnY6v5/aOrMCVI4lF7N1uaHRz7gBmykE=        Denmark   \n",
       "376562  HQ6n9CeKz4MZnY6v5/aOrMCVI4lF7N1uaHRz7gBmykE=        Denmark   \n",
       "\n",
       "        is_return      amount  year  month  day_of_week category_label  \\\n",
       "0           False   72.090353  2024      8           27     Category A   \n",
       "1           False   60.490195  2024      8           30     Category A   \n",
       "2           False  255.403044  2024      8           30     Category A   \n",
       "3           False  159.176484  2024      8           15     Category A   \n",
       "4           False   62.773825  2024      8           15     Category A   \n",
       "...           ...         ...   ...    ...          ...            ...   \n",
       "376558      False    0.400000  2024     10           19     Category P   \n",
       "376559      False    0.400000  2024      1           19     Category P   \n",
       "376560      False    0.000000  2023      6           23     Category P   \n",
       "376561      False    0.400000  2024     11           29     Category P   \n",
       "376562      False    0.000000  2023     12           22     Category P   \n",
       "\n",
       "       sub_category_label region_label  \n",
       "0                      A1     Region A  \n",
       "1                      A1     Region B  \n",
       "2                      A2     Region B  \n",
       "3                      A2     Region C  \n",
       "4                      A1     Region C  \n",
       "...                   ...          ...  \n",
       "376558                 N5     Region I  \n",
       "376559                 N5     Region I  \n",
       "376560                 N5     Region I  \n",
       "376561                 N5     Region I  \n",
       "376562                 N5     Region I  \n",
       "\n",
       "[376563 rows x 17 columns]>"
      ]
     },
     "execution_count": 69,
     "metadata": {},
     "output_type": "execute_result"
    }
   ],
   "source": [
    "df.info"
   ]
  },
  {
   "cell_type": "code",
   "execution_count": 53,
   "metadata": {},
   "outputs": [
    {
     "data": {
      "image/png": "[encoded data removed]",
      "text/plain": [
       "<Figure size 800x600 with 1 Axes>"
      ]
     },
     "metadata": {},
     "output_type": "display_data"
    }
   ],
   "source": [
    "# Count the number of orders per customer\n",
    "customer_order_counts = df['customer'].value_counts()\n",
    "\n",
    "# Create the boxplot\n",
    "plt.figure(figsize=(8, 6))\n",
    "plt.boxplot(customer_order_counts, vert=False, patch_artist=True)\n",
    "plt.title('Boxplot of Customer Order Counts')\n",
    "plt.xlabel('Number of Orders')\n",
    "plt.grid(axis='x', linestyle='--', alpha=0.7)\n",
    "plt.show()"
   ]
  },
  {
   "cell_type": "code",
   "execution_count": 59,
   "metadata": {},
   "outputs": [
    {
     "data": {
      "image/png": "[encoded data removed]",
      "text/plain": [
       "<Figure size 1200x600 with 1 Axes>"
      ]
     },
     "metadata": {},
     "output_type": "display_data"
    }
   ],
   "source": [
    "\n",
    "# Count the number of orders per customer\n",
    "customer_order_counts = df['customer'].value_counts()\n",
    "\n",
    "# Filter counts to be between 0 and 80\n",
    "filtered_counts = customer_order_counts[customer_order_counts.between(0, 80)]\n",
    "\n",
    "# Create the histogram with a bar for each integer\n",
    "plt.figure(figsize=(12, 6))\n",
    "plt.hist(filtered_counts, bins=range(0, 25), edgecolor='black', align='left')\n",
    "plt.title('Histogram of Customer Order Counts (0-80)')\n",
    "plt.xlabel('Number of Orders')\n",
    "plt.ylabel('Number of Customers')\n",
    "plt.xticks(range(0, 25, 5))  # Show ticks every 5 orders for clarity\n",
    "plt.grid(axis='y', linestyle='--', alpha=0.7)\n",
    "plt.show()"
   ]
  },
  {
   "cell_type": "code",
   "execution_count": 60,
   "metadata": {},
   "outputs": [],
   "source": [
    "df['customer_id'] = pd.factorize(df['customer'])[0]"
   ]
  },
  {
   "cell_type": "code",
   "execution_count": 63,
   "metadata": {},
   "outputs": [
    {
     "data": {
      "text/plain": [
       "Index(['created_at', 'order_id', 'product_id', 'variant_id', 'category',\n",
       "       'sub_category', 'customer', 'region_id', 'country', 'is_return',\n",
       "       'amount', 'year', 'month', 'day_of_week', 'category_label',\n",
       "       'sub_category_label', 'customer_id'],\n",
       "      dtype='object')"
      ]
     },
     "execution_count": 63,
     "metadata": {},
     "output_type": "execute_result"
    }
   ],
   "source": [
    "df.columns"
   ]
  }
 ],
 "metadata": {
  "kernelspec": {
   "display_name": "anaconda_environment_1",
   "language": "python",
   "name": "python3"
  },
  "language_info": {
   "codemirror_mode": {
    "name": "ipython",
    "version": 3
   },
   "file_extension": ".py",
   "mimetype": "text/x-python",
   "name": "python",
   "nbconvert_exporter": "python",
   "pygments_lexer": "ipython3",
   "version": "3.11.9"
  }
 },
 "nbformat": 4,
 "nbformat_minor": 2
}
